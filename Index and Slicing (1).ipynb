{
 "cells": [
  {
   "cell_type": "markdown",
   "id": "4980b274",
   "metadata": {},
   "source": [
    "### Indexing and Slicing"
   ]
  },
  {
   "cell_type": "code",
   "execution_count": 1,
   "id": "a371a46a",
   "metadata": {},
   "outputs": [
    {
     "data": {
      "text/plain": [
       "'Data sciences is Hottest job in 21st century'"
      ]
     },
     "execution_count": 1,
     "metadata": {},
     "output_type": "execute_result"
    }
   ],
   "source": [
    "test= \"Data sciences is Hottest job in 21st century\"\n",
    "test"
   ]
  },
  {
   "cell_type": "code",
   "execution_count": 2,
   "id": "8192cc8b",
   "metadata": {},
   "outputs": [
    {
     "data": {
      "text/plain": [
       "'D'"
      ]
     },
     "execution_count": 2,
     "metadata": {},
     "output_type": "execute_result"
    }
   ],
   "source": [
    "test[0]"
   ]
  },
  {
   "cell_type": "code",
   "execution_count": 3,
   "id": "89e5b612",
   "metadata": {},
   "outputs": [
    {
     "data": {
      "text/plain": [
       "'Data sciences is Hottest job in 21st century'"
      ]
     },
     "execution_count": 3,
     "metadata": {},
     "output_type": "execute_result"
    }
   ],
   "source": [
    "test[0:]"
   ]
  },
  {
   "cell_type": "code",
   "execution_count": 4,
   "id": "46b25807",
   "metadata": {},
   "outputs": [
    {
     "data": {
      "text/plain": [
       "44"
      ]
     },
     "execution_count": 4,
     "metadata": {},
     "output_type": "execute_result"
    }
   ],
   "source": [
    "len(test)"
   ]
  },
  {
   "cell_type": "code",
   "execution_count": 5,
   "id": "cbf2ca3a",
   "metadata": {},
   "outputs": [
    {
     "ename": "IndexError",
     "evalue": "string index out of range",
     "output_type": "error",
     "traceback": [
      "\u001b[1;31m---------------------------------------------------------------------------\u001b[0m",
      "\u001b[1;31mIndexError\u001b[0m                                Traceback (most recent call last)",
      "\u001b[1;32mC:\\Users\\SAIKRI~1\\AppData\\Local\\Temp/ipykernel_6096/682693019.py\u001b[0m in \u001b[0;36m<module>\u001b[1;34m\u001b[0m\n\u001b[1;32m----> 1\u001b[1;33m \u001b[0mtest\u001b[0m\u001b[1;33m[\u001b[0m\u001b[1;36m50\u001b[0m\u001b[1;33m]\u001b[0m \u001b[1;31m# there is no index of 50\u001b[0m\u001b[1;33m\u001b[0m\u001b[1;33m\u001b[0m\u001b[0m\n\u001b[0m",
      "\u001b[1;31mIndexError\u001b[0m: string index out of range"
     ]
    }
   ],
   "source": [
    "test[50] # there is no index of 50"
   ]
  },
  {
   "cell_type": "code",
   "execution_count": 6,
   "id": "a69ac053",
   "metadata": {},
   "outputs": [
    {
     "data": {
      "text/plain": [
       "'Data sciences is Hottest job in 21st century'"
      ]
     },
     "execution_count": 6,
     "metadata": {},
     "output_type": "execute_result"
    }
   ],
   "source": [
    "test[::1]"
   ]
  },
  {
   "cell_type": "code",
   "execution_count": 7,
   "id": "7cbac9da",
   "metadata": {},
   "outputs": [
    {
     "data": {
      "text/plain": [
       "'Data sciences is Hottest job in 21st century'"
      ]
     },
     "execution_count": 7,
     "metadata": {},
     "output_type": "execute_result"
    }
   ],
   "source": [
    "test[0:len(test)]"
   ]
  },
  {
   "cell_type": "code",
   "execution_count": 8,
   "id": "330e595e",
   "metadata": {},
   "outputs": [
    {
     "data": {
      "text/plain": [
       "'Data sciences is Hottest job in 21st century'"
      ]
     },
     "execution_count": 8,
     "metadata": {},
     "output_type": "execute_result"
    }
   ],
   "source": [
    "test[:len(test)]"
   ]
  },
  {
   "cell_type": "code",
   "execution_count": 9,
   "id": "5d21653b",
   "metadata": {},
   "outputs": [
    {
     "data": {
      "text/plain": [
       "'entur'"
      ]
     },
     "execution_count": 9,
     "metadata": {},
     "output_type": "execute_result"
    }
   ],
   "source": [
    "test[-6:-1] # the slicing should be always low to high"
   ]
  },
  {
   "cell_type": "code",
   "execution_count": 10,
   "id": "400fd0ba",
   "metadata": {},
   "outputs": [
    {
     "data": {
      "text/plain": [
       "'yrutnec ts12 ni boj tsettoH si secneics ataD'"
      ]
     },
     "execution_count": 10,
     "metadata": {},
     "output_type": "execute_result"
    }
   ],
   "source": [
    "test[::-1] # reverse the string using indexing"
   ]
  },
  {
   "cell_type": "code",
   "execution_count": 11,
   "id": "7d9e3bec",
   "metadata": {},
   "outputs": [
    {
     "data": {
      "text/plain": [
       "'1'"
      ]
     },
     "execution_count": 11,
     "metadata": {},
     "output_type": "execute_result"
    }
   ],
   "source": [
    "test[::-1][10] # the displaces the 10th values in the string"
   ]
  },
  {
   "cell_type": "code",
   "execution_count": 12,
   "id": "5c6262f1",
   "metadata": {},
   "outputs": [
    {
     "data": {
      "text/plain": [
       "'Data sciences is Hottest job in 21st century'"
      ]
     },
     "execution_count": 12,
     "metadata": {},
     "output_type": "execute_result"
    }
   ],
   "source": [
    "test[::1]"
   ]
  },
  {
   "cell_type": "code",
   "execution_count": 13,
   "id": "7f033c63",
   "metadata": {},
   "outputs": [
    {
     "data": {
      "text/plain": [
       "'c'"
      ]
     },
     "execution_count": 13,
     "metadata": {},
     "output_type": "execute_result"
    }
   ],
   "source": [
    "test[::1][10]"
   ]
  },
  {
   "cell_type": "code",
   "execution_count": null,
   "id": "c23f32bd",
   "metadata": {},
   "outputs": [],
   "source": []
  }
 ],
 "metadata": {
  "kernelspec": {
   "display_name": "Python 3 (ipykernel)",
   "language": "python",
   "name": "python3"
  },
  "language_info": {
   "codemirror_mode": {
    "name": "ipython",
    "version": 3
   },
   "file_extension": ".py",
   "mimetype": "text/x-python",
   "name": "python",
   "nbconvert_exporter": "python",
   "pygments_lexer": "ipython3",
   "version": "3.9.7"
  }
 },
 "nbformat": 4,
 "nbformat_minor": 5
}
