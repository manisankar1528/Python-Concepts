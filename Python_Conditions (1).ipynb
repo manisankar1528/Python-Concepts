{
 "cells": [
  {
   "cell_type": "markdown",
   "id": "4d83d5d0",
   "metadata": {},
   "source": [
    "# Conditions"
   ]
  },
  {
   "cell_type": "markdown",
   "id": "f945e439",
   "metadata": {},
   "source": [
    "### Python supports the usual logical conditions from mathematics:\n",
    "#### Equals: a == b\n",
    "#### Not Equals: a != b\n",
    "#### Less than: a < b\n",
    "#### Less than or equal to: a <= b\n",
    "#### Greater than: a > b\n",
    "#### Greater than or equal to: a >= b\n"
   ]
  },
  {
   "cell_type": "code",
   "execution_count": 3,
   "id": "b26987ed",
   "metadata": {},
   "outputs": [
    {
     "name": "stdout",
     "output_type": "stream",
     "text": [
      "x value 50 is greater than 25\n"
     ]
    }
   ],
   "source": [
    "# iF statememt \n",
    "\n",
    "x= 50\n",
    "y= 25\n",
    "if x>y: # as condition true-so it gives output \n",
    "    print(\"x value\",x,\"is greater than\",y) # indentation is must after if clause\n",
    "    \n",
    "\n"
   ]
  },
  {
   "cell_type": "code",
   "execution_count": 4,
   "id": "5b4d46a5",
   "metadata": {},
   "outputs": [
    {
     "ename": "IndentationError",
     "evalue": "expected an indented block (Temp/ipykernel_7580/2676537125.py, line 4)",
     "output_type": "error",
     "traceback": [
      "\u001b[1;36m  File \u001b[1;32m\"C:\\Users\\SAIKRI~1\\AppData\\Local\\Temp/ipykernel_7580/2676537125.py\"\u001b[1;36m, line \u001b[1;32m4\u001b[0m\n\u001b[1;33m    print(\"x value\",x,\"is greater than\",y) # if there is no indentation it will throw an error\u001b[0m\n\u001b[1;37m    ^\u001b[0m\n\u001b[1;31mIndentationError\u001b[0m\u001b[1;31m:\u001b[0m expected an indented block\n"
     ]
    }
   ],
   "source": [
    "x= 50\n",
    "y= 25\n",
    "if x>y: \n",
    "    print(\"x value\",x,\"is greater than\",y) # if there is no indentation it will throw an error"
   ]
  },
  {
   "cell_type": "code",
   "execution_count": 5,
   "id": "dd83d6e0",
   "metadata": {},
   "outputs": [],
   "source": [
    "x= 50\n",
    "y= 25\n",
    "if y>x:  \n",
    "    print(\"y value\",y,\"is greater than\",x) # as condition is false it won't return anything becuase we didnot define the statement"
   ]
  },
  {
   "cell_type": "markdown",
   "id": "0c06f260",
   "metadata": {},
   "source": [
    "### If-Else"
   ]
  },
  {
   "cell_type": "code",
   "execution_count": 7,
   "id": "8b8a4adf",
   "metadata": {},
   "outputs": [
    {
     "name": "stdout",
     "output_type": "stream",
     "text": [
      "y value 25 is less than 50\n"
     ]
    }
   ],
   "source": [
    "x= 50\n",
    "y= 25\n",
    "if y>x: \n",
    "    print(\"x value\",x,\"is greater than\",y)\n",
    "else:\n",
    "    print(\"y value\",y,\"is less than\",x)\n"
   ]
  },
  {
   "cell_type": "code",
   "execution_count": 30,
   "id": "d3efbc7a",
   "metadata": {},
   "outputs": [
    {
     "name": "stdout",
     "output_type": "stream",
     "text": [
      "Enter your favorite foodBiryani\n",
      "Set new password\n"
     ]
    }
   ],
   "source": [
    "# Input function (get data from the user)\n",
    "\n",
    "name = str(input(\"Enter your favorite food\"))\n",
    "if name ==\"Biryani\":\n",
    "    print(\"Set new password\")\n",
    "else:\n",
    "    print(\"enter correct key\")\n",
    "    \n"
   ]
  },
  {
   "cell_type": "code",
   "execution_count": 31,
   "id": "92026255",
   "metadata": {},
   "outputs": [
    {
     "name": "stdout",
     "output_type": "stream",
     "text": [
      "it is greater than 0\n"
     ]
    }
   ],
   "source": [
    "num=8\n",
    "if num>2:\n",
    "    print(\"it is greater than 0\")\n",
    "else:\n",
    "    print(\"it is less than 0\")"
   ]
  },
  {
   "cell_type": "code",
   "execution_count": 34,
   "id": "40ea7fd6",
   "metadata": {},
   "outputs": [
    {
     "name": "stdout",
     "output_type": "stream",
     "text": [
      "less than class average marks\n"
     ]
    }
   ],
   "source": [
    "bio=25\n",
    "sci=20\n",
    "math=24\n",
    "if (bio+sci+math)/3 < 25:\n",
    "    print(\"less than class average marks\")\n",
    "else:\n",
    "    print(\"Average class marks\",(bio+sci+math)/3)"
   ]
  },
  {
   "cell_type": "markdown",
   "id": "ac244b44",
   "metadata": {},
   "source": [
    "### If-Else-Elif"
   ]
  },
  {
   "cell_type": "code",
   "execution_count": 49,
   "id": "000f1fe3",
   "metadata": {},
   "outputs": [
    {
     "name": "stdout",
     "output_type": "stream",
     "text": [
      "enter your age15\n",
      "half ticket price should be collected\n"
     ]
    }
   ],
   "source": [
    "# We are using Elif function where if clause is not true then elif fucntion will check the fucntion then it passes to the else statement if both cases are false\n",
    "# Train fare display\n",
    "age=int(input(\"enter your age\"))\n",
    "if (0<age<=7):\n",
    "    print(\"No train ticket is required\")\n",
    "elif (7<age<=15):\n",
    "    print(\"half ticket price should be collected\")\n",
    "else:\n",
    "    print(\"adult ticket fare is mandatory\")"
   ]
  },
  {
   "cell_type": "markdown",
   "id": "7bb38391",
   "metadata": {},
   "source": [
    "### Nested If-Else "
   ]
  },
  {
   "cell_type": "code",
   "execution_count": 51,
   "id": "989b86dc",
   "metadata": {},
   "outputs": [
    {
     "name": "stdout",
     "output_type": "stream",
     "text": [
      "35 is greater\n"
     ]
    }
   ],
   "source": [
    "num1=25\n",
    "num2=35\n",
    "num3=56\n",
    "if num1>num2:\n",
    "    print(num1,\"is greater\")\n",
    "else:\n",
    "    if num3>num2:\n",
    "        print(num3,\"is greater\")\n",
    "    else:\n",
    "        print(num2,\"is greater\")"
   ]
  },
  {
   "cell_type": "code",
   "execution_count": 53,
   "id": "98f979a0",
   "metadata": {},
   "outputs": [
    {
     "name": "stdout",
     "output_type": "stream",
     "text": [
      "Enter the user idsaikrishna\n",
      "Enter your passwordabc123\n",
      "Successfully logged in\n"
     ]
    }
   ],
   "source": [
    "# Program for checking the login password\n",
    "\n",
    "user_id=input(\"Enter the user id\")\n",
    "password =input(\"Enter your password\")\n",
    "if user_id == \"saikrishna\":\n",
    "    if password == \"abc123\":\n",
    "        print(\"Successfully logged in\")\n",
    "    else:\n",
    "        print(\"incorrect password\")"
   ]
  },
  {
   "cell_type": "code",
   "execution_count": null,
   "id": "e3a9f5de",
   "metadata": {},
   "outputs": [],
   "source": []
  }
 ],
 "metadata": {
  "kernelspec": {
   "display_name": "Python 3 (ipykernel)",
   "language": "python",
   "name": "python3"
  },
  "language_info": {
   "codemirror_mode": {
    "name": "ipython",
    "version": 3
   },
   "file_extension": ".py",
   "mimetype": "text/x-python",
   "name": "python",
   "nbconvert_exporter": "python",
   "pygments_lexer": "ipython3",
   "version": "3.9.7"
  }
 },
 "nbformat": 4,
 "nbformat_minor": 5
}
