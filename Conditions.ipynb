{
 "cells": [
  {
   "cell_type": "markdown",
   "metadata": {},
   "source": [
    "### Conditions\n",
    "### If statement"
   ]
  },
  {
   "cell_type": "code",
   "execution_count": 1,
   "metadata": {},
   "outputs": [],
   "source": [
    "a=50\n",
    "b=100\n",
    "if a>b:\n",
    "    print(\"a is greater than b\")   ### No output-Nothing is defined for False Statement"
   ]
  },
  {
   "cell_type": "code",
   "execution_count": 2,
   "metadata": {},
   "outputs": [
    {
     "name": "stdout",
     "output_type": "stream",
     "text": [
      "a is greater than b\n"
     ]
    }
   ],
   "source": [
    "a=150\n",
    "b=100\n",
    "if a>b:\n",
    "    print(\"a is greater than b\") ### True-So there is output"
   ]
  },
  {
   "cell_type": "code",
   "execution_count": 3,
   "metadata": {},
   "outputs": [
    {
     "name": "stdout",
     "output_type": "stream",
     "text": [
      "b is greater\n"
     ]
    }
   ],
   "source": [
    "a=34\n",
    "b=56\n",
    "if a>b:\n",
    "    print(\"a is greater\")\n",
    "else:\n",
    "    print(\"b is greater\")\n"
   ]
  },
  {
   "cell_type": "code",
   "execution_count": 12,
   "metadata": {},
   "outputs": [
    {
     "name": "stdout",
     "output_type": "stream",
     "text": [
      "Enter the password:Hello\n",
      "Welcome to Home!\n"
     ]
    }
   ],
   "source": [
    "x=str(input('Enter the password:'))\n",
    "if x=='Hello':\n",
    "    print('Welcome to Home!')\n",
    "else:\n",
    "        print('incorrect password')\n"
   ]
  },
  {
   "cell_type": "code",
   "execution_count": 6,
   "metadata": {},
   "outputs": [
    {
     "name": "stdout",
     "output_type": "stream",
     "text": [
      "8 is greater than zero\n"
     ]
    }
   ],
   "source": [
    "num=8\n",
    "if(num>0):\n",
    "    print(num,\"is greater than zero\")\n",
    "else:\n",
    "    print(num,\"is less than zero\")"
   ]
  },
  {
   "cell_type": "code",
   "execution_count": 7,
   "metadata": {},
   "outputs": [
    {
     "name": "stdout",
     "output_type": "stream",
     "text": [
      "Less than average marks\n"
     ]
    }
   ],
   "source": [
    "math = 10\n",
    "sci = 20\n",
    "eng =15\n",
    "\n",
    "if((math + sci + eng)/3 <= 35):\n",
    "    print(\"Less than average marks\")\n",
    "else:\n",
    "    print(\"Average score is: \", (math+sci+eng)/3)\n"
   ]
  },
  {
   "cell_type": "code",
   "execution_count": 19,
   "metadata": {},
   "outputs": [
    {
     "name": "stdout",
     "output_type": "stream",
     "text": [
      "-5 is less than zero\n"
     ]
    }
   ],
   "source": [
    "### check if a number is greater than zero\n",
    "num=-5\n",
    "if(num>0):\n",
    "    print(num,\"is greater than zero\")\n",
    "else:\n",
    "    print(num,\"is less than zero\")"
   ]
  },
  {
   "cell_type": "markdown",
   "metadata": {},
   "source": [
    "### if-elif-else"
   ]
  },
  {
   "cell_type": "code",
   "execution_count": 24,
   "metadata": {},
   "outputs": [
    {
     "name": "stdout",
     "output_type": "stream",
     "text": [
      "Enter age:14\n",
      "Bus fare is 30\n"
     ]
    }
   ],
   "source": [
    "### Display Bus Fare\n",
    "age=int(input(\"Enter age:\"))\n",
    "if(0<age<3):\n",
    "    print(\"No fare for age group for 0 to 3\")\n",
    "elif(3<age<10):\n",
    "    print(\"Bus fare is 20\")\n",
    "elif(10<age<20):\n",
    "    print(\"Bus fare is 30\")\n",
    "else:\n",
    "    print(\"Bus fare is 40\")"
   ]
  },
  {
   "cell_type": "markdown",
   "metadata": {},
   "source": [
    "### Nested if-else"
   ]
  },
  {
   "cell_type": "code",
   "execution_count": 40,
   "metadata": {},
   "outputs": [
    {
     "name": "stdout",
     "output_type": "stream",
     "text": [
      "63 is greater\n"
     ]
    }
   ],
   "source": [
    "num1=17\n",
    "num2=45\n",
    "num3=63\n",
    "if num1>num2:\n",
    "    print(num1,\"is greater\")\n",
    "else:\n",
    "    if num3>num2:\n",
    "        print(num3,\"is greater\")\n",
    "    else:\n",
    "        print(num2,\"is greater\")"
   ]
  },
  {
   "cell_type": "code",
   "execution_count": 46,
   "metadata": {},
   "outputs": [
    {
     "name": "stdout",
     "output_type": "stream",
     "text": [
      "Enter user id:la_pl\n",
      "password:123\n",
      "password accepted.logged in\n"
     ]
    }
   ],
   "source": [
    "### Progrm to check password for a user id\n",
    "user_id=input(\"Enter user id:\")\n",
    "password=input(\"password:\")\n",
    "if user_id==\"la_pl\":\n",
    "    if password==\"123\":\n",
    "        print(\"password accepted.logged in\")\n",
    "    else:\n",
    "            print(\"wrong password\")"
   ]
  },
  {
   "cell_type": "code",
   "execution_count": null,
   "metadata": {},
   "outputs": [],
   "source": []
  }
 ],
 "metadata": {
  "kernelspec": {
   "display_name": "Python 3",
   "language": "python",
   "name": "python3"
  },
  "language_info": {
   "codemirror_mode": {
    "name": "ipython",
    "version": 3
   },
   "file_extension": ".py",
   "mimetype": "text/x-python",
   "name": "python",
   "nbconvert_exporter": "python",
   "pygments_lexer": "ipython3",
   "version": "3.8.3"
  }
 },
 "nbformat": 4,
 "nbformat_minor": 4
}
