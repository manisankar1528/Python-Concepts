{
 "cells": [
  {
   "cell_type": "markdown",
   "id": "e62f23ec",
   "metadata": {},
   "source": [
    "### Data Types\n",
    "\n",
    "\n"
   ]
  },
  {
   "cell_type": "code",
   "execution_count": 1,
   "id": "1e4e3235",
   "metadata": {},
   "outputs": [
    {
     "name": "stdout",
     "output_type": "stream",
     "text": [
      "saikrishna\n"
     ]
    },
    {
     "data": {
      "text/plain": [
       "str"
      ]
     },
     "execution_count": 1,
     "metadata": {},
     "output_type": "execute_result"
    }
   ],
   "source": [
    "# Text type i.e. String(str)\n",
    "\n",
    "name = \"saikrishna\"\n",
    "print(name)\n",
    "type(name) # the type function will execute the date type\n",
    "\n"
   ]
  },
  {
   "cell_type": "markdown",
   "id": "2024689e",
   "metadata": {},
   "source": [
    "#### Numrical data types"
   ]
  },
  {
   "cell_type": "code",
   "execution_count": 2,
   "id": "2cdc7626",
   "metadata": {},
   "outputs": [
    {
     "name": "stdout",
     "output_type": "stream",
     "text": [
      "1528\n"
     ]
    },
    {
     "data": {
      "text/plain": [
       "int"
      ]
     },
     "execution_count": 2,
     "metadata": {},
     "output_type": "execute_result"
    }
   ],
   "source": [
    "# Integer (int)\n",
    "\n",
    "roll_number=1528\n",
    "print(roll_number)\n",
    "type(roll_number)"
   ]
  },
  {
   "cell_type": "code",
   "execution_count": 5,
   "id": "c124a6e0",
   "metadata": {},
   "outputs": [
    {
     "name": "stdout",
     "output_type": "stream",
     "text": [
      "72.5\n"
     ]
    },
    {
     "data": {
      "text/plain": [
       "float"
      ]
     },
     "execution_count": 5,
     "metadata": {},
     "output_type": "execute_result"
    }
   ],
   "source": [
    "# Float \n",
    "\n",
    "body_weight = 72.5\n",
    "print(body_weight)\n",
    "type(body_weight)"
   ]
  },
  {
   "cell_type": "code",
   "execution_count": 6,
   "id": "859e3ba7",
   "metadata": {},
   "outputs": [
    {
     "name": "stdout",
     "output_type": "stream",
     "text": [
      "6j\n"
     ]
    },
    {
     "data": {
      "text/plain": [
       "complex"
      ]
     },
     "execution_count": 6,
     "metadata": {},
     "output_type": "execute_result"
    }
   ],
   "source": [
    "# Complex (x + ij format)\n",
    "\n",
    "x = 6j\n",
    "print(x) \n",
    "type(x) # the type fuction will give data type as a complex becuase it considers 0 + 6j if there is no values\n"
   ]
  },
  {
   "cell_type": "markdown",
   "id": "92cf4705",
   "metadata": {},
   "source": [
    "#### Boolean types"
   ]
  },
  {
   "cell_type": "code",
   "execution_count": 8,
   "id": "b2b76988",
   "metadata": {},
   "outputs": [
    {
     "name": "stdout",
     "output_type": "stream",
     "text": [
      "True\n"
     ]
    },
    {
     "data": {
      "text/plain": [
       "bool"
      ]
     },
     "execution_count": 8,
     "metadata": {},
     "output_type": "execute_result"
    }
   ],
   "source": [
    "y = True\n",
    "print(y)\n",
    "type(y)"
   ]
  },
  {
   "cell_type": "code",
   "execution_count": 14,
   "id": "cafa0058",
   "metadata": {},
   "outputs": [
    {
     "ename": "NameError",
     "evalue": "name 'true' is not defined",
     "output_type": "error",
     "traceback": [
      "\u001b[1;31m---------------------------------------------------------------------------\u001b[0m",
      "\u001b[1;31mNameError\u001b[0m                                 Traceback (most recent call last)",
      "\u001b[1;32mC:\\Users\\SAIKRI~1\\AppData\\Local\\Temp/ipykernel_1960/857327164.py\u001b[0m in \u001b[0;36m<module>\u001b[1;34m\u001b[0m\n\u001b[1;32m----> 1\u001b[1;33m \u001b[0my1\u001b[0m\u001b[1;33m=\u001b[0m \u001b[0mtrue\u001b[0m  \u001b[1;31m# if we use t as a lower_case instead of upper_case it shows error\u001b[0m\u001b[1;33m\u001b[0m\u001b[1;33m\u001b[0m\u001b[0m\n\u001b[0m\u001b[0;32m      2\u001b[0m \u001b[0mprint\u001b[0m\u001b[1;33m(\u001b[0m\u001b[0my1\u001b[0m\u001b[1;33m)\u001b[0m\u001b[1;33m\u001b[0m\u001b[1;33m\u001b[0m\u001b[0m\n",
      "\u001b[1;31mNameError\u001b[0m: name 'true' is not defined"
     ]
    }
   ],
   "source": [
    "y1= true  # if we use t as a lower_case instead of upper_case it shows error\n",
    "print(y1)"
   ]
  },
  {
   "cell_type": "code",
   "execution_count": 17,
   "id": "363cffa2",
   "metadata": {},
   "outputs": [
    {
     "name": "stdout",
     "output_type": "stream",
     "text": [
      "True\n"
     ]
    },
    {
     "data": {
      "text/plain": [
       "str"
      ]
     },
     "execution_count": 17,
     "metadata": {},
     "output_type": "execute_result"
    }
   ],
   "source": [
    "# In case if we use double quotes for true then we get string\n",
    "y2 = \"True\"\n",
    "print(y2)\n",
    "type(y2)"
   ]
  },
  {
   "cell_type": "code",
   "execution_count": 18,
   "id": "8431dcd3",
   "metadata": {},
   "outputs": [
    {
     "name": "stdout",
     "output_type": "stream",
     "text": [
      "False\n"
     ]
    },
    {
     "data": {
      "text/plain": [
       "bool"
      ]
     },
     "execution_count": 18,
     "metadata": {},
     "output_type": "execute_result"
    }
   ],
   "source": [
    "y3 = False\n",
    "print(y3)\n",
    "type(y3)"
   ]
  },
  {
   "cell_type": "code",
   "execution_count": null,
   "id": "2f87566c",
   "metadata": {},
   "outputs": [],
   "source": []
  }
 ],
 "metadata": {
  "kernelspec": {
   "display_name": "Python 3 (ipykernel)",
   "language": "python",
   "name": "python3"
  },
  "language_info": {
   "codemirror_mode": {
    "name": "ipython",
    "version": 3
   },
   "file_extension": ".py",
   "mimetype": "text/x-python",
   "name": "python",
   "nbconvert_exporter": "python",
   "pygments_lexer": "ipython3",
   "version": "3.9.7"
  }
 },
 "nbformat": 4,
 "nbformat_minor": 5
}
